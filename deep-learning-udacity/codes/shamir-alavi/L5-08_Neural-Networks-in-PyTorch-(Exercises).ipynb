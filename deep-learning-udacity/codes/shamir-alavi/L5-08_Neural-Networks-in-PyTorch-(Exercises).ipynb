{
 "cells": [
  {
   "cell_type": "markdown",
   "metadata": {},
   "source": [
    "# Neural networks with PyTorch\n",
    "\n",
    "Deep learning networks tend to be massive with dozens or hundreds of layers, that's where the term \"deep\" comes from. You can build one of these deep networks using only weight matrices as we did in the previous notebook, but in general it's very cumbersome and difficult to implement. PyTorch has a nice module `nn` that provides a nice way to efficiently build large neural networks."
   ]
  },
  {
   "cell_type": "code",
   "execution_count": 1,
   "metadata": {},
   "outputs": [],
   "source": [
    "# Import necessary packages\n",
    "\n",
    "%matplotlib inline\n",
    "%config InlineBackend.figure_format = 'retina'\n",
    "\n",
    "import numpy as np\n",
    "import torch\n",
    "\n",
    "import helper\n",
    "\n",
    "import matplotlib.pyplot as plt"
   ]
  },
  {
   "cell_type": "markdown",
   "metadata": {},
   "source": [
    "\n",
    "Now we're going to build a larger network that can solve a (formerly) difficult problem, identifying text in an image. Here we'll use the MNIST dataset which consists of greyscale handwritten digits. Each image is 28x28 pixels, you can see a sample below\n",
    "\n",
    "<img src='assets/mnist.png'>\n",
    "\n",
    "Our goal is to build a neural network that can take one of these images and predict the digit in the image.\n",
    "\n",
    "First up, we need to get our dataset. This is provided through the `torchvision` package. The code below will download the MNIST dataset, then create training and test datasets for us. Don't worry too much about the details here, you'll learn more about this later."
   ]
  },
  {
   "cell_type": "code",
   "execution_count": 2,
   "metadata": {
    "collapsed": true
   },
   "outputs": [
    {
     "name": "stderr",
     "output_type": "stream",
     "text": [
      "0it [00:00, ?it/s]"
     ]
    },
    {
     "name": "stdout",
     "output_type": "stream",
     "text": [
      "Downloading http://yann.lecun.com/exdb/mnist/train-images-idx3-ubyte.gz to /home/shamir/.pytorch/MNIST_data/MNIST/raw/train-images-idx3-ubyte.gz\n"
     ]
    },
    {
     "name": "stderr",
     "output_type": "stream",
     "text": [
      "100%|█████████▉| 9871360/9912422 [00:10<00:00, 1246964.04it/s]"
     ]
    },
    {
     "name": "stdout",
     "output_type": "stream",
     "text": [
      "Extracting /home/shamir/.pytorch/MNIST_data/MNIST/raw/train-images-idx3-ubyte.gz to /home/shamir/.pytorch/MNIST_data/MNIST/raw\n"
     ]
    },
    {
     "name": "stderr",
     "output_type": "stream",
     "text": [
      "\n",
      "0it [00:00, ?it/s]\u001b[A"
     ]
    },
    {
     "name": "stdout",
     "output_type": "stream",
     "text": [
      "Downloading http://yann.lecun.com/exdb/mnist/train-labels-idx1-ubyte.gz to /home/shamir/.pytorch/MNIST_data/MNIST/raw/train-labels-idx1-ubyte.gz\n"
     ]
    },
    {
     "name": "stderr",
     "output_type": "stream",
     "text": [
      "\n",
      "  0%|          | 0/28881 [00:00<?, ?it/s]\u001b[A\n",
      "32768it [00:00, 82235.35it/s]                            \u001b[A\n",
      "\n",
      "0it [00:00, ?it/s]\u001b[A"
     ]
    },
    {
     "name": "stdout",
     "output_type": "stream",
     "text": [
      "Extracting /home/shamir/.pytorch/MNIST_data/MNIST/raw/train-labels-idx1-ubyte.gz to /home/shamir/.pytorch/MNIST_data/MNIST/raw\n",
      "Downloading http://yann.lecun.com/exdb/mnist/t10k-images-idx3-ubyte.gz to /home/shamir/.pytorch/MNIST_data/MNIST/raw/t10k-images-idx3-ubyte.gz\n"
     ]
    },
    {
     "name": "stderr",
     "output_type": "stream",
     "text": [
      "\n",
      "  0%|          | 0/1648877 [00:00<?, ?it/s]\u001b[A\n",
      "  1%|          | 16384/1648877 [00:00<00:15, 108323.88it/s]\u001b[A\n",
      "  3%|▎         | 49152/1648877 [00:00<00:12, 124372.64it/s]\u001b[A\n",
      "  6%|▌         | 98304/1648877 [00:00<00:10, 148257.41it/s]\u001b[A\n",
      "  8%|▊         | 139264/1648877 [00:00<00:08, 178061.25it/s]\u001b[A\n",
      " 12%|█▏        | 204800/1648877 [00:01<00:06, 217862.90it/s]\u001b[A\n",
      " 15%|█▍        | 245760/1648877 [00:01<00:05, 251020.58it/s]\u001b[A\n",
      " 19%|█▉        | 311296/1648877 [00:01<00:04, 306294.53it/s]\u001b[A\n",
      " 22%|██▏       | 368640/1648877 [00:01<00:03, 349053.75it/s]\u001b[A\n",
      " 25%|██▌       | 417792/1648877 [00:01<00:04, 296099.17it/s]\u001b[A\n",
      " 31%|███       | 507904/1648877 [00:01<00:03, 357395.23it/s]\u001b[A\n",
      " 35%|███▌      | 581632/1648877 [00:01<00:02, 381854.21it/s]\u001b[A\n",
      " 38%|███▊      | 630784/1648877 [00:01<00:02, 407663.74it/s]\u001b[A\n",
      " 42%|████▏     | 696320/1648877 [00:02<00:02, 422936.10it/s]\u001b[A\n",
      " 45%|████▌     | 745472/1648877 [00:02<00:02, 370646.30it/s]\u001b[A\n",
      " 51%|█████     | 835584/1648877 [00:02<00:01, 443874.19it/s]\u001b[A\n",
      " 59%|█████▊    | 966656/1648877 [00:02<00:01, 553647.62it/s]\u001b[A\n",
      " 66%|██████▌   | 1081344/1648877 [00:02<00:00, 644671.42it/s]\u001b[A\n",
      " 75%|███████▍  | 1228800/1648877 [00:02<00:00, 775607.95it/s]\u001b[A\n",
      " 81%|████████  | 1335296/1648877 [00:02<00:00, 740375.00it/s]\u001b[A\n",
      " 88%|████████▊ | 1458176/1648877 [00:02<00:00, 835141.55it/s]\u001b[A\n",
      "1654784it [00:03, 527207.33it/s]                             \u001b[A\n",
      "\n",
      "8192it [00:00, 108857.02it/s]\n"
     ]
    },
    {
     "name": "stdout",
     "output_type": "stream",
     "text": [
      "Extracting /home/shamir/.pytorch/MNIST_data/MNIST/raw/t10k-images-idx3-ubyte.gz to /home/shamir/.pytorch/MNIST_data/MNIST/raw\n",
      "Downloading http://yann.lecun.com/exdb/mnist/t10k-labels-idx1-ubyte.gz to /home/shamir/.pytorch/MNIST_data/MNIST/raw/t10k-labels-idx1-ubyte.gz\n",
      "Extracting /home/shamir/.pytorch/MNIST_data/MNIST/raw/t10k-labels-idx1-ubyte.gz to /home/shamir/.pytorch/MNIST_data/MNIST/raw\n",
      "Processing...\n",
      "Done!\n"
     ]
    },
    {
     "name": "stderr",
     "output_type": "stream",
     "text": [
      "9920512it [00:29, 1246964.04it/s]                             "
     ]
    }
   ],
   "source": [
    "### Run this cell\n",
    "\n",
    "from torchvision import datasets, transforms\n",
    "\n",
    "# Define a transform to normalize the data\n",
    "transform = transforms.Compose([transforms.ToTensor(),\n",
    "                              transforms.Normalize((0.5,), (0.5,)),\n",
    "                              ])\n",
    "\n",
    "# Download and load the training data\n",
    "trainset = datasets.MNIST('~/.pytorch/MNIST_data/', download=True, train=True, transform=transform)\n",
    "trainloader = torch.utils.data.DataLoader(trainset, batch_size=64, shuffle=True)"
   ]
  },
  {
   "cell_type": "markdown",
   "metadata": {},
   "source": [
    "We have the training data loaded into `trainloader` and we make that an iterator with `iter(trainloader)`. Later, we'll use this to loop through the dataset for training, like\n",
    "\n",
    "```python\n",
    "for image, label in trainloader:\n",
    "    ## do things with images and labels\n",
    "```\n",
    "\n",
    "You'll notice I created the `trainloader` with a batch size of 64, and `shuffle=True`. The batch size is the number of images we get in one iteration from the data loader and pass through our network, often called a *batch*. And `shuffle=True` tells it to shuffle the dataset every time we start going through the data loader again. But here I'm just grabbing the first batch so we can check out the data. We can see below that `images` is just a tensor with size `(64, 1, 28, 28)`. So, 64 images per batch, 1 color channel, and 28x28 images."
   ]
  },
  {
   "cell_type": "code",
   "execution_count": 3,
   "metadata": {},
   "outputs": [
    {
     "name": "stdout",
     "output_type": "stream",
     "text": [
      "<class 'torch.Tensor'>\n",
      "torch.Size([64, 1, 28, 28])\n",
      "torch.Size([64])\n"
     ]
    }
   ],
   "source": [
    "dataiter = iter(trainloader)\n",
    "images, labels = dataiter.next()\n",
    "print(type(images))\n",
    "print(images.shape)\n",
    "print(labels.shape)"
   ]
  },
  {
   "cell_type": "markdown",
   "metadata": {},
   "source": [
    "This is what one of the images looks like. "
   ]
  },
  {
   "cell_type": "code",
   "execution_count": 4,
   "metadata": {},
   "outputs": [
    {
     "data": {
      "image/png": "[encoded data removed]",
      "text/plain": [
       "<Figure size 432x288 with 1 Axes>"
      ]
     },
     "metadata": {
      "image/png": {
       "height": 248,
       "width": 251
      },
      "needs_background": "light"
     },
     "output_type": "display_data"
    }
   ],
   "source": [
    "plt.imshow(images[1].numpy().squeeze(), cmap='Greys_r');"
   ]
  },
  {
   "cell_type": "markdown",
   "metadata": {},
   "source": [
    "First, let's try to build a simple network for this dataset using weight matrices and matrix multiplications. Then, we'll see how to do it using PyTorch's `nn` module which provides a much more convenient and powerful method for defining network architectures.\n",
    "\n",
    "The networks you've seen so far are called *fully-connected* or *dense* networks. Each unit in one layer is connected to each unit in the next layer. In fully-connected networks, the input to each layer must be a one-dimensional vector (which can be stacked into a 2D tensor as a batch of multiple examples). However, our images are 28x28 2D tensors, so we need to convert them into 1D vectors. Thinking about sizes, we need to convert the batch of images with shape `(64, 1, 28, 28)` to a have a shape of `(64, 784)`, 784 is 28 times 28. This is typically called *flattening*, we flattened the 2D images into 1D vectors.\n",
    "\n",
    "Previously you built a network with one output unit. Here we need 10 output units, one for each digit. We want our network to predict the digit shown in an image, so what we'll do is calculate probabilities that the image is of any one digit or class. This ends up being a discrete probability distribution over the classes (digits) that tells us the most likely class for the image. That means we need 10 output units for the 10 classes (digits). We'll see how to convert the network output into a probability distribution next.\n",
    "\n",
    "> **Exercise:** Flatten the batch of images `images`. Then build a multi-layer network with 784 input units, 256 hidden units, and 10 output units using random tensors for the weights and biases. For now, use a sigmoid activation for the hidden layer. Leave the output layer without an activation, we'll add one that gives us a probability distribution next."
   ]
  },
  {
   "cell_type": "code",
   "execution_count": 13,
   "metadata": {},
   "outputs": [
    {
     "data": {
      "text/plain": [
       "784"
      ]
     },
     "execution_count": 13,
     "metadata": {},
     "output_type": "execute_result"
    }
   ],
   "source": [
    "images.numpy().reshape(64,1,784).shape[2]"
   ]
  },
  {
   "cell_type": "code",
   "execution_count": 14,
   "metadata": {},
   "outputs": [],
   "source": [
    "def activation(x):\n",
    "    \"\"\" Sigmoid activation function \n",
    "    \n",
    "        Arguments\n",
    "        ---------\n",
    "        x: torch.Tensor\n",
    "    \"\"\"\n",
    "    return 1/(1+torch.exp(-x))"
   ]
  },
  {
   "cell_type": "code",
   "execution_count": 55,
   "metadata": {},
   "outputs": [
    {
     "name": "stdout",
     "output_type": "stream",
     "text": [
      "shape of features =  torch.Size([64, 784])\n",
      "shape of W1 =  torch.Size([784, 256])\n",
      "shape of W2 =  torch.Size([256, 10])\n",
      "shape of B1 =  torch.Size([1, 256])\n",
      "shape of B2 =  torch.Size([1, 10])\n"
     ]
    }
   ],
   "source": [
    "## Your solution\n",
    "\n",
    "torch.manual_seed(7) # Set the random seed so things are predictable\n",
    "\n",
    "images_flat = images.numpy().reshape(64,784)    # flattened images\n",
    "features = torch.from_numpy(images_flat)\n",
    "\n",
    "# Define the size of each layer in our network\n",
    "n_input = features.shape[1]     # Number of input units, must match number of input features\n",
    "n_hidden = 256                  # Number of hidden units \n",
    "n_output = 10                   # Number of output units\n",
    "\n",
    "# Weights for inputs to hidden layer\n",
    "W1 = torch.randn(n_input, n_hidden)\n",
    "# Weights for hidden layer to output layer\n",
    "W2 = torch.randn(n_hidden, n_output)\n",
    "\n",
    "# and bias terms for hidden and output layers\n",
    "B1 = torch.randn((1, n_hidden))\n",
    "B2 = torch.randn((1, n_output))\n",
    "\n",
    "print('shape of features = ', features.shape)\n",
    "print('shape of W1 = ', W1.shape)\n",
    "print('shape of W2 = ', W2.shape)\n",
    "print('shape of B1 = ', B1.shape)\n",
    "print('shape of B2 = ', B2.shape)"
   ]
  },
  {
   "cell_type": "code",
   "execution_count": 57,
   "metadata": {},
   "outputs": [
    {
     "data": {
      "text/plain": [
       "64"
      ]
     },
     "execution_count": 57,
     "metadata": {},
     "output_type": "execute_result"
    }
   ],
   "source": [
    "features.shape[0]"
   ]
  },
  {
   "cell_type": "code",
   "execution_count": 59,
   "metadata": {},
   "outputs": [
    {
     "data": {
      "text/plain": [
       "torch.Size([784])"
      ]
     },
     "execution_count": 59,
     "metadata": {},
     "output_type": "execute_result"
    }
   ],
   "source": [
    "features[0,:].shape"
   ]
  },
  {
   "cell_type": "code",
   "execution_count": 48,
   "metadata": {},
   "outputs": [
    {
     "data": {
      "text/plain": [
       "torch.Size([1, 256])"
      ]
     },
     "execution_count": 48,
     "metadata": {},
     "output_type": "execute_result"
    }
   ],
   "source": [
    "activation(torch.mm(features[0,:,:], W1) + B1).shape"
   ]
  },
  {
   "cell_type": "code",
   "execution_count": 53,
   "metadata": {},
   "outputs": [
    {
     "data": {
      "text/plain": [
       "(64, 256)"
      ]
     },
     "execution_count": 53,
     "metadata": {},
     "output_type": "execute_result"
    }
   ],
   "source": [
    "hidden1 = np.zeros((64,256))\n",
    "hidden1.shape"
   ]
  },
  {
   "cell_type": "code",
   "execution_count": 101,
   "metadata": {},
   "outputs": [
    {
     "data": {
      "text/plain": [
       "tensor([[-4.3728e+00, -1.0826e+01,  3.0718e+00, -1.0910e+01,  4.5929e+00,\n",
       "          5.3507e+00, -6.2247e+00,  1.6426e+00, -4.6201e+00, -9.0353e+00],\n",
       "        [-1.1583e+01, -8.1348e+00,  3.7160e+00, -8.8460e+00,  6.8090e+00,\n",
       "          8.2169e+00, -6.9534e+00,  1.2889e+01, -1.8056e+01, -1.0468e+01],\n",
       "        [-4.4377e+00, -6.9830e+00,  3.9494e+00, -7.5440e+00,  1.4791e+01,\n",
       "          8.9315e+00,  1.3392e-01,  1.4798e+00, -1.5335e+01, -3.3928e+00],\n",
       "        [-1.7245e+01, -1.3301e+01, -1.0428e+01, -9.6907e+00,  1.0067e+01,\n",
       "          3.9310e+00, -7.4713e+00,  8.3633e-01, -1.1079e+01, -9.6435e+00],\n",
       "        [-1.1657e+01, -1.2891e+01, -4.7142e+00, -1.9579e+01,  9.0842e-01,\n",
       "          5.0133e+00, -4.6229e+00,  3.9127e+00, -1.1336e+01,  6.7085e+00],\n",
       "        [-1.5870e+01, -1.8315e+00,  6.1070e+00, -1.5976e+01,  7.0712e+00,\n",
       "          1.6723e+01,  8.7437e-01,  2.6800e+00, -1.2391e+01,  1.8611e+00],\n",
       "        [-1.7279e+01, -8.6675e+00,  2.7336e+00, -5.9031e+00,  1.3526e+01,\n",
       "          7.8075e+00, -1.0636e+01,  5.2474e+00, -6.6599e+00, -6.5404e+00],\n",
       "        [-1.5838e+01, -6.8379e+00, -4.3633e+00, -1.0948e+01,  1.8894e+01,\n",
       "          1.0649e+01,  2.4127e+00, -1.6587e+00, -1.3471e+01, -8.6208e+00],\n",
       "        [-1.5491e+01, -1.1292e+01, -8.9441e-01, -1.1876e+01,  8.1498e+00,\n",
       "          2.3226e+00, -1.5156e+01,  3.3314e+00, -4.5372e+00, -3.1324e-01],\n",
       "        [-1.6916e+01, -1.3534e+01, -5.4425e+00, -9.7706e+00,  9.6842e+00,\n",
       "          2.7295e+00, -6.7071e+00,  4.2729e+00, -1.3646e+01, -8.5911e+00],\n",
       "        [-7.4930e+00, -7.0476e+00, -1.8444e+01, -7.6521e+00,  1.1830e+01,\n",
       "          1.0997e+01, -9.9187e+00,  1.9342e+00, -1.4410e+01,  4.8301e+00],\n",
       "        [-1.0403e+01, -5.2860e+00,  3.3190e+00, -9.8141e+00,  1.6616e+01,\n",
       "          6.0107e+00, -1.4535e+01, -5.3501e+00, -1.7847e+01,  8.6941e-01],\n",
       "        [-1.2156e+01, -8.7510e+00,  6.3722e+00, -9.7757e+00,  3.3747e+00,\n",
       "          1.2076e+01, -2.2260e+00,  2.9269e+00, -1.1955e+01, -2.0188e+00],\n",
       "        [-2.1680e+01, -7.6865e+00,  4.6431e+00, -1.1865e+01,  2.0748e-02,\n",
       "          3.2364e+00, -9.5494e+00,  4.6931e+00, -6.7991e+00,  4.0095e+00],\n",
       "        [-1.2666e+01,  2.5612e+00,  3.2791e+00, -1.3130e+00,  1.0306e+01,\n",
       "          2.6531e+00, -3.3277e+00,  4.3782e+00, -1.2189e+01, -7.2179e+00],\n",
       "        [-1.3410e+01,  7.1573e-01, -7.0246e+00, -1.1596e+01,  7.9944e+00,\n",
       "          1.0987e+01, -2.5801e+00, -3.6469e+00, -1.5358e+01,  3.9209e+00],\n",
       "        [-2.3398e+01,  1.6414e+00, -4.9777e-01, -7.5805e+00,  1.4313e+01,\n",
       "          8.3663e+00, -1.2054e+00,  4.3273e+00, -3.8679e+00, -1.1380e+01],\n",
       "        [-1.8270e+01, -7.9311e+00, -6.4517e-01, -1.9428e+01,  9.8373e-01,\n",
       "          1.5091e+01, -1.1348e+01,  1.8287e+00, -1.3994e+01,  1.3856e+00],\n",
       "        [-1.2314e+01, -6.8838e+00, -5.5828e+00, -1.3714e+01,  7.8762e+00,\n",
       "          3.4070e+00, -5.9619e+00, -1.7180e+00, -4.9444e+00, -2.0521e+00],\n",
       "        [-9.0849e+00,  6.8308e+00,  3.5489e+00,  8.4635e-01,  8.7861e+00,\n",
       "          2.8098e+00, -8.6867e+00,  1.0828e+01, -9.3467e+00, -1.7728e+00],\n",
       "        [-1.2111e+01, -1.0118e+01, -2.8625e-01, -1.0120e+01,  9.9279e+00,\n",
       "         -2.3258e+00, -8.6067e+00,  1.5598e+00, -1.1632e+01, -8.9579e+00],\n",
       "        [-1.9695e+01, -1.2131e+01, -3.4296e-01, -1.8041e+01,  7.9715e+00,\n",
       "          3.1735e+00,  8.6398e-01,  1.5410e+01, -1.3952e+01, -6.2532e+00],\n",
       "        [-1.2514e+01, -5.8668e+00,  1.8898e-01, -2.0609e+00,  1.0038e+01,\n",
       "          1.4531e+01, -1.3674e+00,  2.4307e+00, -1.6059e+01, -7.9657e+00],\n",
       "        [-2.5378e+00, -3.5118e+00,  8.4846e+00, -7.0427e-01,  1.4397e+01,\n",
       "          5.8403e+00, -8.8996e-01,  3.3644e+00, -1.4516e+01, -7.1674e+00],\n",
       "        [-4.4144e+00, -1.3036e+01, -7.0019e+00, -9.7623e+00,  2.9744e+00,\n",
       "          1.4758e+01, -8.3717e+00, -4.3391e+00, -1.6580e+01, -6.9986e+00],\n",
       "        [-1.9846e+01, -1.1271e+01, -3.1218e+00, -2.0564e+01, -4.6369e-01,\n",
       "          7.9656e+00,  5.9945e+00,  3.1190e+00, -2.2699e+01, -9.6298e+00],\n",
       "        [-9.0633e+00, -2.5255e+00,  6.2236e+00, -1.3185e+01,  4.5191e+00,\n",
       "          1.3971e+01,  1.4108e+00,  6.8673e+00, -1.4241e+01, -8.2992e+00],\n",
       "        [-2.3628e+01,  4.5167e+00,  7.5769e-01, -1.5595e+01,  9.7125e+00,\n",
       "          8.4222e+00, -9.0777e+00,  5.5860e+00, -1.9623e+01,  6.2638e+00],\n",
       "        [-5.0877e+00, -5.5529e+00,  5.2710e+00, -1.5741e+01,  2.5377e+00,\n",
       "         -1.3596e+00,  3.0769e+00,  3.6115e+00, -1.2258e+01, -3.8549e+00],\n",
       "        [-1.4796e+01, -3.0318e+00,  2.2473e+00, -1.1393e+01,  1.1100e+01,\n",
       "          3.1745e+00, -5.8707e+00, -5.7500e+00, -1.3967e+01, -4.6475e+00],\n",
       "        [-1.4569e+01, -6.3249e+00,  4.7789e+00, -1.2674e+01,  3.6746e+00,\n",
       "          3.4927e+00, -7.5157e+00,  4.8426e+00, -3.0879e+00, -8.2193e+00],\n",
       "        [-1.9555e+01, -7.2440e+00,  2.7905e-01, -1.7602e+01,  9.1732e+00,\n",
       "          1.6247e+01,  8.2652e+00,  1.1882e+01, -7.4547e+00, -1.3056e-01],\n",
       "        [-2.1002e+01, -1.2659e+01, -2.7186e+00, -1.7039e+01,  7.7077e+00,\n",
       "          6.6355e+00,  3.6728e+00,  1.5932e+01, -1.1863e+01, -6.1895e+00],\n",
       "        [-1.9551e+01, -1.4196e+01, -1.1707e+01, -5.3866e+00,  1.4616e+01,\n",
       "          3.4162e+00, -2.3825e+00,  7.6696e+00, -8.2581e+00, -5.5163e+00],\n",
       "        [-1.5993e+01, -7.6292e+00,  7.2909e+00, -2.3523e+00,  1.1129e+01,\n",
       "          8.5936e+00, -7.5610e+00,  8.1645e+00, -1.3348e+01,  5.0860e+00],\n",
       "        [-1.7741e+01, -8.7900e+00,  2.9196e+00, -4.4829e-01,  8.7114e+00,\n",
       "          2.0705e+00, -1.1355e+01,  6.1512e+00, -1.1853e+01, -1.4469e+00],\n",
       "        [-1.5920e+01,  9.5482e+00, -4.0979e+00, -7.7126e+00,  4.3460e+00,\n",
       "          1.7051e+00, -6.9924e+00, -9.5737e+00, -2.0477e+01, -2.2733e+00],\n",
       "        [-8.6317e+00, -5.0469e+00, -2.6859e+00, -1.8981e+01,  1.4639e+01,\n",
       "          5.4962e+00, -3.8762e+00,  1.0625e+01, -1.3965e+01, -8.5643e+00],\n",
       "        [-1.5194e+01, -7.9627e+00,  3.3269e-01, -9.1121e+00,  7.6471e+00,\n",
       "          2.0969e+00, -1.0432e+01,  6.9873e+00, -9.8633e+00, -1.9241e+00],\n",
       "        [-1.3044e+01, -3.4083e+00, -2.2676e+00, -1.9410e+01,  3.1769e+00,\n",
       "          1.0034e+01, -9.8828e+00, -8.3387e+00, -9.3685e+00, -1.4120e+00],\n",
       "        [-8.0105e+00, -8.0781e+00, -1.2495e+01, -4.8691e+00,  3.4079e+00,\n",
       "          7.3610e+00,  6.1745e-01, -3.4094e+00, -1.6832e+01, -1.2672e+00],\n",
       "        [-1.9223e+01, -1.6770e+01,  5.0259e+00, -9.6348e+00,  4.7189e+00,\n",
       "          1.2577e+01, -3.1220e+00, -1.9998e+00, -1.1803e+01,  6.0654e+00],\n",
       "        [-1.7095e+01, -1.4479e+00,  4.0388e+00, -1.3278e+01,  8.5220e+00,\n",
       "          5.7821e+00, -6.0387e+00,  8.0391e+00, -1.6604e+01, -3.9003e+00],\n",
       "        [-9.1127e+00, -2.6333e+00, -1.5483e+00, -1.3940e+01,  1.4639e+00,\n",
       "          8.7034e+00,  1.4691e+00,  4.8732e-01, -8.0827e+00,  1.4221e-01],\n",
       "        [-1.0848e+01, -1.4579e+01, -5.6353e+00, -1.4466e+01,  6.7673e+00,\n",
       "          1.1295e+01,  5.1863e+00,  3.0202e+00, -1.2929e+01, -9.6836e+00],\n",
       "        [-1.1445e+01, -3.8652e+00, -5.2804e-01, -1.4366e+00,  8.3034e+00,\n",
       "          8.3592e+00, -1.4149e+01, -6.4473e+00, -1.6650e+01, -5.0768e+00],\n",
       "        [-7.9174e+00, -5.2894e+00, -3.3307e+00, -6.5567e+00,  1.3873e+01,\n",
       "          7.3265e+00, -1.0827e+01,  6.8887e+00, -9.9464e+00, -6.0316e+00],\n",
       "        [-3.2337e+00, -1.4726e+01, -1.3873e-01, -5.2895e+00,  6.9431e+00,\n",
       "          6.4654e+00,  1.0529e+01,  4.1711e+00, -1.5668e+01,  5.3708e+00],\n",
       "        [-1.6071e+01, -9.6566e+00, -3.7283e-01, -7.3515e+00,  1.3409e+01,\n",
       "          5.2538e+00, -3.0275e+00,  1.3419e+01, -1.7310e+01, -6.0551e+00],\n",
       "        [-1.4259e+01, -9.0637e+00, -5.5920e-01, -9.5555e+00,  1.1240e+01,\n",
       "          3.9004e-01,  1.5940e+00,  8.9738e+00, -1.1011e+01, -7.8612e+00],\n",
       "        [-1.7312e+01, -8.8844e+00, -4.2457e+00, -4.5872e+00,  8.8999e+00,\n",
       "          8.2517e+00, -6.6650e+00,  5.2259e+00, -1.4240e+01, -1.8308e+00],\n",
       "        [-1.8849e+01, -9.5509e+00, -4.3890e+00, -1.4154e+01,  1.9748e+00,\n",
       "          7.7120e+00, -5.7249e+00,  3.1518e+00, -9.4679e+00,  1.1729e+00],\n",
       "        [-2.1198e+01, -4.4443e+00, -3.9654e+00, -1.1053e+01,  7.8130e+00,\n",
       "          8.4046e+00, -2.7845e+00, -1.8654e+00, -9.9042e+00, -7.8135e+00],\n",
       "        [-1.6148e+01, -1.3494e+00, -2.7973e+00, -1.0323e+00,  7.5652e+00,\n",
       "          1.0165e+01, -5.1553e+00,  5.4807e+00, -1.2777e+01,  1.6315e+00],\n",
       "        [-1.7880e+01, -9.3955e+00,  3.2738e+00, -2.0463e+01,  8.8544e+00,\n",
       "          8.4460e+00, -1.1859e+01,  1.0433e+01, -1.4409e+01,  3.9420e+00],\n",
       "        [-9.5586e+00, -8.6455e+00, -6.9766e+00, -9.2107e+00, -3.3837e-01,\n",
       "          5.2858e+00, -7.0665e+00, -3.4194e+00, -1.2132e+01, -1.0113e+01],\n",
       "        [-1.7671e+01, -3.8661e+00, -3.3553e+00, -1.1536e+01,  1.2329e+01,\n",
       "         -5.9527e+00, -6.5192e+00,  6.2307e+00, -8.8507e+00, -7.6817e+00],\n",
       "        [-9.4347e+00, -1.0353e+00, -3.8961e+00, -5.5053e+00,  1.3468e+01,\n",
       "          6.7347e+00, -8.2534e+00,  1.5348e+00, -7.8942e+00, -4.6756e+00],\n",
       "        [-1.6677e+01, -1.2092e+01, -7.6696e+00, -4.8015e+00,  1.1143e+01,\n",
       "          1.0438e+01,  2.0382e+00,  3.1161e+00, -1.2135e+01, -5.1751e+00],\n",
       "        [-2.1831e+01,  4.3557e+00, -6.1242e+00, -9.7931e+00,  6.3688e+00,\n",
       "          1.0746e+01, -1.0010e+01,  6.6140e+00, -6.7809e+00, -3.6605e+00],\n",
       "        [-1.2611e+01, -1.5049e+01,  2.2730e+00,  6.3582e-01,  1.9701e+00,\n",
       "          8.9921e+00, -1.3424e+01, -1.1313e+01, -1.5053e+01, -1.2230e-01],\n",
       "        [-9.2133e+00, -1.4317e+01, -6.4539e+00, -9.9526e+00,  5.2151e+00,\n",
       "          1.2508e+01, -6.8632e+00,  8.0621e+00, -9.8500e+00, -1.0553e+01],\n",
       "        [-1.8954e+01, -8.8006e+00,  4.6640e+00, -2.2124e+00,  1.3817e+01,\n",
       "          6.1557e+00, -6.5856e+00,  1.1136e+00, -5.8579e+00, -2.2743e+00],\n",
       "        [-1.4193e+01, -5.1388e-02,  6.4535e-01, -1.3300e+01,  3.7196e+00,\n",
       "          9.6415e+00, -2.5161e+00,  2.3929e+00, -1.8222e+01,  3.6833e+00]])"
      ]
     },
     "execution_count": 101,
     "metadata": {},
     "output_type": "execute_result"
    }
   ],
   "source": [
    "# calculate network output\n",
    "\n",
    "hidden1 = activation(torch.mm(features, W1) + B1)\n",
    "\n",
    "out = torch.mm(hidden1, W2) + B2    # output of your network, should have shape (64,10)\n",
    "out"
   ]
  },
  {
   "cell_type": "markdown",
   "metadata": {},
   "source": [
    "Now we have 10 outputs for our network. We want to pass in an image to our network and get out a probability distribution over the classes that tells us the likely class(es) the image belongs to. Something that looks like this:\n",
    "<img src='assets/image_distribution.png' width=500px>\n",
    "\n",
    "Here we see that the probability for each class is roughly the same. This is representing an untrained network, it hasn't seen any data yet so it just returns a uniform distribution with equal probabilities for each class.\n",
    "\n",
    "To calculate this probability distribution, we often use the [**softmax** function](https://en.wikipedia.org/wiki/Softmax_function). Mathematically this looks like\n",
    "\n",
    "$$\n",
    "\\Large \\sigma(x_i) = \\cfrac{e^{x_i}}{\\sum_k^K{e^{x_k}}}\n",
    "$$\n",
    "\n",
    "What this does is squish each input $x_i$ between 0 and 1 and normalizes the values to give you a proper probability distribution where the probabilites sum up to one.\n",
    "\n",
    "> **Exercise:** Implement a function `softmax` that performs the softmax calculation and returns probability distributions for each example in the batch. Note that you'll need to pay attention to the shapes when doing this. If you have a tensor `a` with shape `(64, 10)` and a tensor `b` with shape `(64,)`, doing `a/b` will give you an error because PyTorch will try to do the division across the columns (called broadcasting) but you'll get a size mismatch. The way to think about this is for each of the 64 examples, you only want to divide by one value, the sum in the denominator. So you need `b` to have a shape of `(64, 1)`. This way PyTorch will divide the 10 values in each row of `a` by the one value in each row of `b`. Pay attention to how you take the sum as well. You'll need to define the `dim` keyword in `torch.sum`. Setting `dim=0` takes the sum across the rows while `dim=1` takes the sum across the columns."
   ]
  },
  {
   "cell_type": "code",
   "execution_count": 105,
   "metadata": {},
   "outputs": [
    {
     "data": {
      "text/plain": [
       "(64, 10)"
      ]
     },
     "execution_count": 105,
     "metadata": {},
     "output_type": "execute_result"
    }
   ],
   "source": [
    "out.shape[0], len(out[0])"
   ]
  },
  {
   "cell_type": "code",
   "execution_count": 108,
   "metadata": {},
   "outputs": [
    {
     "data": {
      "text/plain": [
       "tensor([[ -4.3728],\n",
       "        [-10.8256],\n",
       "        [  3.0718],\n",
       "        [-10.9100],\n",
       "        [  4.5929],\n",
       "        [  5.3507],\n",
       "        [ -6.2247],\n",
       "        [  1.6426],\n",
       "        [ -4.6201],\n",
       "        [ -9.0353]])"
      ]
     },
     "execution_count": 108,
     "metadata": {},
     "output_type": "execute_result"
    }
   ],
   "source": [
    "out[0].resize(len(out[0]),1)"
   ]
  },
  {
   "cell_type": "code",
   "execution_count": 115,
   "metadata": {},
   "outputs": [
    {
     "name": "stdout",
     "output_type": "stream",
     "text": [
      "torch.Size([64, 10])\n",
      "tensor([1.0000, 1.0000, 1.0000, 1.0000, 1.0000, 1.0000, 1.0000, 1.0000, 1.0000,\n",
      "        1.0000, 1.0000, 1.0000, 1.0000, 1.0000, 1.0000, 1.0000, 1.0000, 1.0000,\n",
      "        1.0000, 1.0000, 1.0000, 1.0000, 1.0000, 1.0000, 1.0000, 1.0000, 1.0000,\n",
      "        1.0000, 1.0000, 1.0000, 1.0000, 1.0000, 1.0000, 1.0000, 1.0000, 1.0000,\n",
      "        1.0000, 1.0000, 1.0000, 1.0000, 1.0000, 1.0000, 1.0000, 1.0000, 1.0000,\n",
      "        1.0000, 1.0000, 1.0000, 1.0000, 1.0000, 1.0000, 1.0000, 1.0000, 1.0000,\n",
      "        1.0000, 1.0000, 1.0000, 1.0000, 1.0000, 1.0000, 1.0000, 1.0000, 1.0000,\n",
      "        1.0000])\n"
     ]
    }
   ],
   "source": [
    "def softmax(x):\n",
    "    ## TODO: Implement the softmax function here\n",
    "    \n",
    "    output = x\n",
    "    for i in range(x.shape[0]):\n",
    "        row = x[i].resize(len(x[i]),1)\n",
    "        probability = torch.exp(row) / torch.sum(torch.exp(row))\n",
    "        probability = probability.reshape(len(probability))\n",
    "        #print(row.shape)\n",
    "        #print(probability.shape)\n",
    "        #print(output.shape)\n",
    "        output[i] = probability\n",
    "        \n",
    "    ## Instructor's solution\n",
    "    #return torch.exp(x) / torch.sum(torch.exp(x), dim=1).view(-1,1)\n",
    "        \n",
    "    return output\n",
    "    \n",
    "\n",
    "# Here, out should be the output of the network in the previous excercise with shape (64,10)\n",
    "probabilities = softmax(out)\n",
    "\n",
    "# Does it have the right shape? Should be (64, 10)\n",
    "print(probabilities.shape)\n",
    "# Does it sum to 1?\n",
    "print(probabilities.sum(dim=1))"
   ]
  },
  {
   "cell_type": "markdown",
   "metadata": {},
   "source": [
    "## Building networks with PyTorch\n",
    "\n",
    "PyTorch provides a module `nn` that makes building networks much simpler. Here I'll show you how to build the same one as above with 784 inputs, 256 hidden units, 10 output units and a softmax output."
   ]
  },
  {
   "cell_type": "code",
   "execution_count": 116,
   "metadata": {},
   "outputs": [],
   "source": [
    "from torch import nn"
   ]
  },
  {
   "cell_type": "code",
   "execution_count": 117,
   "metadata": {},
   "outputs": [],
   "source": [
    "class Network(nn.Module):\n",
    "    def __init__(self):\n",
    "        super().__init__()\n",
    "        \n",
    "        # Inputs to hidden layer linear transformation\n",
    "        self.hidden = nn.Linear(784, 256)\n",
    "        # Output layer, 10 units - one for each digit\n",
    "        self.output = nn.Linear(256, 10)\n",
    "        \n",
    "        # Define sigmoid activation and softmax output \n",
    "        self.sigmoid = nn.Sigmoid()\n",
    "        self.softmax = nn.Softmax(dim=1)\n",
    "        \n",
    "    def forward(self, x):\n",
    "        # Pass the input tensor through each of our operations\n",
    "        x = self.hidden(x)\n",
    "        x = self.sigmoid(x)\n",
    "        x = self.output(x)\n",
    "        x = self.softmax(x)\n",
    "        \n",
    "        return x"
   ]
  },
  {
   "cell_type": "markdown",
   "metadata": {},
   "source": [
    "Let's go through this bit by bit.\n",
    "\n",
    "```python\n",
    "class Network(nn.Module):\n",
    "```\n",
    "\n",
    "Here we're inheriting from `nn.Module`. Combined with `super().__init__()` this creates a class that tracks the architecture and provides a lot of useful methods and attributes. It is mandatory to inherit from `nn.Module` when you're creating a class for your network. The name of the class itself can be anything.\n",
    "\n",
    "```python\n",
    "self.hidden = nn.Linear(784, 256)\n",
    "```\n",
    "\n",
    "This line creates a module for a linear transformation, $x\\mathbf{W} + b$, with 784 inputs and 256 outputs and assigns it to `self.hidden`. The module automatically creates the weight and bias tensors which we'll use in the `forward` method. You can access the weight and bias tensors once the network (`net`) is created with `net.hidden.weight` and `net.hidden.bias`.\n",
    "\n",
    "```python\n",
    "self.output = nn.Linear(256, 10)\n",
    "```\n",
    "\n",
    "Similarly, this creates another linear transformation with 256 inputs and 10 outputs.\n",
    "\n",
    "```python\n",
    "self.sigmoid = nn.Sigmoid()\n",
    "self.softmax = nn.Softmax(dim=1)\n",
    "```\n",
    "\n",
    "Here I defined operations for the sigmoid activation and softmax output. Setting `dim=1` in `nn.Softmax(dim=1)` calculates softmax across the columns.\n",
    "\n",
    "```python\n",
    "def forward(self, x):\n",
    "```\n",
    "\n",
    "PyTorch networks created with `nn.Module` must have a `forward` method defined. It takes in a tensor `x` and passes it through the operations you defined in the `__init__` method.\n",
    "\n",
    "```python\n",
    "x = self.hidden(x)\n",
    "x = self.sigmoid(x)\n",
    "x = self.output(x)\n",
    "x = self.softmax(x)\n",
    "```\n",
    "\n",
    "Here the input tensor `x` is passed through each operation and reassigned to `x`. We can see that the input tensor goes through the hidden layer, then a sigmoid function, then the output layer, and finally the softmax function. It doesn't matter what you name the variables here, as long as the inputs and outputs of the operations match the network architecture you want to build. The order in which you define things in the `__init__` method doesn't matter, but you'll need to sequence the operations correctly in the `forward` method.\n",
    "\n",
    "Now we can create a `Network` object."
   ]
  },
  {
   "cell_type": "code",
   "execution_count": 118,
   "metadata": {},
   "outputs": [
    {
     "data": {
      "text/plain": [
       "Network(\n",
       "  (hidden): Linear(in_features=784, out_features=256, bias=True)\n",
       "  (output): Linear(in_features=256, out_features=10, bias=True)\n",
       "  (sigmoid): Sigmoid()\n",
       "  (softmax): Softmax(dim=1)\n",
       ")"
      ]
     },
     "execution_count": 118,
     "metadata": {},
     "output_type": "execute_result"
    }
   ],
   "source": [
    "# Create the network and look at it's text representation\n",
    "model = Network()\n",
    "model"
   ]
  },
  {
   "cell_type": "markdown",
   "metadata": {},
   "source": [
    "You can define the network somewhat more concisely and clearly using the `torch.nn.functional` module. This is the most common way you'll see networks defined as many operations are simple element-wise functions. We normally import this module as `F`, `import torch.nn.functional as F`."
   ]
  },
  {
   "cell_type": "code",
   "execution_count": 126,
   "metadata": {},
   "outputs": [],
   "source": [
    "import torch.nn.functional as F\n",
    "\n",
    "class Network(nn.Module):\n",
    "    def __init__(self):\n",
    "        super().__init__()\n",
    "        # Inputs to hidden layer linear transformation\n",
    "        self.hidden = nn.Linear(784, 256)\n",
    "        # Output layer, 10 units - one for each digit\n",
    "        self.output = nn.Linear(256, 10)\n",
    "        \n",
    "    def forward(self, x):\n",
    "        # Hidden layer with sigmoid activation\n",
    "        x = F.sigmoid(self.hidden(x))\n",
    "        # Output layer with softmax activation\n",
    "        x = F.softmax(self.output(x), dim=1)\n",
    "        \n",
    "        return x"
   ]
  },
  {
   "cell_type": "code",
   "execution_count": 127,
   "metadata": {},
   "outputs": [
    {
     "data": {
      "text/plain": [
       "Network(\n",
       "  (hidden): Linear(in_features=784, out_features=256, bias=True)\n",
       "  (output): Linear(in_features=256, out_features=10, bias=True)\n",
       ")"
      ]
     },
     "execution_count": 127,
     "metadata": {},
     "output_type": "execute_result"
    }
   ],
   "source": [
    "# Create the network and look at it's text representation\n",
    "model = Network()\n",
    "model"
   ]
  },
  {
   "cell_type": "markdown",
   "metadata": {},
   "source": [
    "### Activation functions\n",
    "\n",
    "So far we've only been looking at the sigmoid activation function, but in general any function can be used as an activation function. The only requirement is that for a network to approximate a non-linear function, the activation functions must be non-linear. Here are a few more examples of common activation functions: Tanh (hyperbolic tangent), and ReLU (rectified linear unit).\n",
    "\n",
    "<img src=\"assets/activation.png\" width=700px>\n",
    "\n",
    "In practice, the ReLU function is used almost exclusively as the activation function for hidden layers."
   ]
  },
  {
   "cell_type": "markdown",
   "metadata": {},
   "source": [
    "### Your Turn to Build a Network\n",
    "\n",
    "<img src=\"assets/mlp_mnist.png\" width=600px>\n",
    "\n",
    "> **Exercise:** Create a network with 784 input units, a hidden layer with 128 units and a ReLU activation, then a hidden layer with 64 units and a ReLU activation, and finally an output layer with a softmax activation as shown above. You can use a ReLU activation with the `nn.ReLU` module or `F.relu` function.\n",
    "\n",
    "It's good practice to name your layers by their type of network, for instance 'fc' to represent a fully-connected layer. As you code your solution, use `fc1`, `fc2`, and `fc3` as your layer names."
   ]
  },
  {
   "cell_type": "code",
   "execution_count": 122,
   "metadata": {},
   "outputs": [
    {
     "data": {
      "text/plain": [
       "tensor([ 1.3128e-02,  3.0716e-41, -8.6816e+24])"
      ]
     },
     "execution_count": 122,
     "metadata": {},
     "output_type": "execute_result"
    }
   ],
   "source": [
    "torch.empty(3)"
   ]
  },
  {
   "cell_type": "code",
   "execution_count": 134,
   "metadata": {
    "scrolled": true
   },
   "outputs": [],
   "source": [
    "## Your solution here\n",
    "\n",
    "import torch.nn.functional as F\n",
    "\n",
    "class Network(nn.Module):\n",
    "    def __init__(self):\n",
    "        super().__init__()\n",
    "        \n",
    "        # Inputs to fully connection layer #1 (fc1) linear transformation\n",
    "        self.fc1 = nn.Linear(784, 128)\n",
    "        \n",
    "        # Inputs to fc1 to fc2 linear transformation\n",
    "        self.fc2 = nn.Linear(128, 64)\n",
    "        \n",
    "        # Output layer, 10 units - one for each digit\n",
    "        self.output = nn.Linear(64, 10)\n",
    "        \n",
    "    def forward(self, x):\n",
    "        \n",
    "        # fc1 with sigmoid activation\n",
    "        x = F.sigmoid(self.fc1(x))\n",
    "        \n",
    "        # fc2 with sigmoid activation\n",
    "        x = F.sigmoid(self.fc2(x))\n",
    "        \n",
    "        # Output layer with softmax activation\n",
    "        x = F.softmax(self.output(x), dim=1)\n",
    "        \n",
    "        # Cros-entropy loss\n",
    "        #loss_val = torch.empty(1,1)\n",
    "        #loss = F.cross_entropy(x,loss_val)\n",
    "        \n",
    "        return x\n"
   ]
  },
  {
   "cell_type": "code",
   "execution_count": 135,
   "metadata": {},
   "outputs": [
    {
     "data": {
      "text/plain": [
       "Network(\n",
       "  (fc1): Linear(in_features=784, out_features=128, bias=True)\n",
       "  (fc2): Linear(in_features=128, out_features=64, bias=True)\n",
       "  (output): Linear(in_features=64, out_features=10, bias=True)\n",
       ")"
      ]
     },
     "execution_count": 135,
     "metadata": {},
     "output_type": "execute_result"
    }
   ],
   "source": [
    "# Create the network and look at it's text representation\n",
    "model = Network()\n",
    "model"
   ]
  },
  {
   "cell_type": "markdown",
   "metadata": {},
   "source": [
    "### Initializing weights and biases\n",
    "\n",
    "The weights and such are automatically initialized for you, but it's possible to customize how they are initialized. The weights and biases are tensors attached to the layer you defined, you can get them with `model.fc1.weight` for instance."
   ]
  },
  {
   "cell_type": "code",
   "execution_count": 136,
   "metadata": {},
   "outputs": [
    {
     "name": "stdout",
     "output_type": "stream",
     "text": [
      "Parameter containing:\n",
      "tensor([[-0.0255, -0.0045, -0.0060,  ..., -0.0161, -0.0214,  0.0092],\n",
      "        [-0.0048, -0.0098, -0.0176,  ...,  0.0117, -0.0212, -0.0357],\n",
      "        [ 0.0156,  0.0015, -0.0337,  ...,  0.0331,  0.0187, -0.0253],\n",
      "        ...,\n",
      "        [ 0.0193,  0.0052,  0.0196,  ...,  0.0086,  0.0170,  0.0099],\n",
      "        [ 0.0351, -0.0257, -0.0327,  ...,  0.0248, -0.0209, -0.0187],\n",
      "        [ 0.0328, -0.0245, -0.0261,  ..., -0.0037, -0.0057,  0.0251]],\n",
      "       requires_grad=True)\n",
      "Parameter containing:\n",
      "tensor([ 0.0347,  0.0354,  0.0026,  0.0190, -0.0159, -0.0152, -0.0240, -0.0083,\n",
      "        -0.0255,  0.0019,  0.0163, -0.0147,  0.0236,  0.0263,  0.0116, -0.0354,\n",
      "        -0.0131, -0.0351, -0.0075, -0.0285, -0.0184,  0.0142, -0.0250,  0.0182,\n",
      "         0.0210, -0.0131,  0.0328,  0.0063, -0.0117, -0.0109, -0.0257,  0.0069,\n",
      "         0.0087, -0.0193, -0.0031, -0.0329, -0.0137, -0.0272, -0.0064,  0.0006,\n",
      "         0.0121,  0.0058,  0.0062,  0.0052, -0.0337, -0.0229, -0.0337, -0.0191,\n",
      "        -0.0325, -0.0027, -0.0036, -0.0226, -0.0096,  0.0125, -0.0346, -0.0226,\n",
      "         0.0331,  0.0309, -0.0351,  0.0079,  0.0127, -0.0123, -0.0232, -0.0009,\n",
      "         0.0100,  0.0078, -0.0086,  0.0180, -0.0302, -0.0071, -0.0110, -0.0266,\n",
      "         0.0347, -0.0265,  0.0103,  0.0284, -0.0140, -0.0192,  0.0113,  0.0234,\n",
      "         0.0345,  0.0192,  0.0290, -0.0132, -0.0031,  0.0274,  0.0238, -0.0246,\n",
      "         0.0260, -0.0131, -0.0177,  0.0310, -0.0350,  0.0002, -0.0237, -0.0090,\n",
      "         0.0221, -0.0281, -0.0088, -0.0324, -0.0070, -0.0020,  0.0104,  0.0057,\n",
      "        -0.0053,  0.0344, -0.0356, -0.0157,  0.0114,  0.0071, -0.0062, -0.0310,\n",
      "         0.0116, -0.0056,  0.0357,  0.0224, -0.0280,  0.0215,  0.0133, -0.0134,\n",
      "        -0.0201,  0.0277, -0.0080,  0.0209,  0.0183, -0.0205, -0.0294, -0.0312],\n",
      "       requires_grad=True)\n"
     ]
    }
   ],
   "source": [
    "print(model.fc1.weight)\n",
    "print(model.fc1.bias)"
   ]
  },
  {
   "cell_type": "markdown",
   "metadata": {},
   "source": [
    "For custom initialization, we want to modify these tensors in place. These are actually autograd *Variables*, so we need to get back the actual tensors with `model.fc1.weight.data`. Once we have the tensors, we can fill them with zeros (for biases) or random normal values."
   ]
  },
  {
   "cell_type": "code",
   "execution_count": 137,
   "metadata": {},
   "outputs": [
    {
     "data": {
      "text/plain": [
       "tensor([0., 0., 0., 0., 0., 0., 0., 0., 0., 0., 0., 0., 0., 0., 0., 0., 0., 0., 0., 0., 0., 0., 0., 0.,\n",
       "        0., 0., 0., 0., 0., 0., 0., 0., 0., 0., 0., 0., 0., 0., 0., 0., 0., 0., 0., 0., 0., 0., 0., 0.,\n",
       "        0., 0., 0., 0., 0., 0., 0., 0., 0., 0., 0., 0., 0., 0., 0., 0., 0., 0., 0., 0., 0., 0., 0., 0.,\n",
       "        0., 0., 0., 0., 0., 0., 0., 0., 0., 0., 0., 0., 0., 0., 0., 0., 0., 0., 0., 0., 0., 0., 0., 0.,\n",
       "        0., 0., 0., 0., 0., 0., 0., 0., 0., 0., 0., 0., 0., 0., 0., 0., 0., 0., 0., 0., 0., 0., 0., 0.,\n",
       "        0., 0., 0., 0., 0., 0., 0., 0.])"
      ]
     },
     "execution_count": 137,
     "metadata": {},
     "output_type": "execute_result"
    }
   ],
   "source": [
    "# Set biases to all zeros\n",
    "model.fc1.bias.data.fill_(0)"
   ]
  },
  {
   "cell_type": "code",
   "execution_count": 138,
   "metadata": {},
   "outputs": [
    {
     "data": {
      "text/plain": [
       "tensor([[-0.0098,  0.0177,  0.0037,  ..., -0.0019, -0.0204,  0.0054],\n",
       "        [ 0.0089, -0.0018, -0.0073,  ..., -0.0067,  0.0068,  0.0022],\n",
       "        [ 0.0011,  0.0118, -0.0024,  ...,  0.0023, -0.0087, -0.0074],\n",
       "        ...,\n",
       "        [ 0.0141,  0.0013,  0.0030,  ...,  0.0032, -0.0164, -0.0133],\n",
       "        [-0.0004,  0.0157,  0.0027,  ...,  0.0068, -0.0041,  0.0299],\n",
       "        [-0.0215, -0.0076,  0.0119,  ...,  0.0028,  0.0032,  0.0056]])"
      ]
     },
     "execution_count": 138,
     "metadata": {},
     "output_type": "execute_result"
    }
   ],
   "source": [
    "# sample from random normal with standard dev = 0.01\n",
    "model.fc1.weight.data.normal_(std=0.01)"
   ]
  },
  {
   "cell_type": "markdown",
   "metadata": {},
   "source": [
    "### Forward pass\n",
    "\n",
    "Now that we have a network, let's see what happens when we pass in an image."
   ]
  },
  {
   "cell_type": "code",
   "execution_count": 141,
   "metadata": {},
   "outputs": [
    {
     "data": {
      "image/png": "[encoded data removed]",
      "text/plain": [
       "<Figure size 432x648 with 2 Axes>"
      ]
     },
     "metadata": {
      "image/png": {
       "height": 235,
       "width": 424
      },
      "needs_background": "light"
     },
     "output_type": "display_data"
    }
   ],
   "source": [
    "# Grab some data \n",
    "dataiter = iter(trainloader)\n",
    "images, labels = dataiter.next()\n",
    "\n",
    "# Resize images into a 1D vector, new shape is (batch size, color channels, image pixels) \n",
    "images.resize_(64, 1, 784)\n",
    "# or images.resize_(images.shape[0], 1, 784) to automatically get batch size\n",
    "\n",
    "# Forward pass through the network\n",
    "img_idx = 0\n",
    "ps = model.forward(images[img_idx,:])\n",
    "\n",
    "img = images[img_idx]\n",
    "helper.view_classify(img.view(1, 28, 28), ps)"
   ]
  },
  {
   "cell_type": "markdown",
   "metadata": {},
   "source": [
    "As you can see above, our network has basically no idea what this digit is. It's because we haven't trained it yet, all the weights are random!\n",
    "\n",
    "### Using `nn.Sequential`\n",
    "\n",
    "PyTorch provides a convenient way to build networks like this where a tensor is passed sequentially through operations, `nn.Sequential` ([documentation](https://pytorch.org/docs/master/nn.html#torch.nn.Sequential)). Using this to build the equivalent network:"
   ]
  },
  {
   "cell_type": "code",
   "execution_count": 143,
   "metadata": {},
   "outputs": [
    {
     "name": "stdout",
     "output_type": "stream",
     "text": [
      "Sequential(\n",
      "  (0): Linear(in_features=784, out_features=128, bias=True)\n",
      "  (1): ReLU()\n",
      "  (2): Linear(in_features=128, out_features=64, bias=True)\n",
      "  (3): ReLU()\n",
      "  (4): Linear(in_features=64, out_features=10, bias=True)\n",
      "  (5): Softmax(dim=1)\n",
      ")\n"
     ]
    },
    {
     "data": {
      "image/png": "[encoded data removed]",
      "text/plain": [
       "<Figure size 432x648 with 2 Axes>"
      ]
     },
     "metadata": {
      "image/png": {
       "height": 235,
       "width": 424
      },
      "needs_background": "light"
     },
     "output_type": "display_data"
    }
   ],
   "source": [
    "# Hyperparameters for our network\n",
    "input_size = 784\n",
    "hidden_sizes = [128, 64]\n",
    "output_size = 10\n",
    "\n",
    "# Build a feed-forward network\n",
    "model = nn.Sequential(nn.Linear(input_size, hidden_sizes[0]),\n",
    "                      nn.ReLU(),\n",
    "                      nn.Linear(hidden_sizes[0], hidden_sizes[1]),\n",
    "                      nn.ReLU(),\n",
    "                      nn.Linear(hidden_sizes[1], output_size),\n",
    "                      nn.Softmax(dim=1))\n",
    "print(model)\n",
    "\n",
    "# Forward pass through the network and display output\n",
    "images, labels = next(iter(trainloader))\n",
    "images.resize_(images.shape[0], 1, 784)\n",
    "ps = model.forward(images[0,:])\n",
    "helper.view_classify(images[0].view(1, 28, 28), ps)"
   ]
  },
  {
   "cell_type": "markdown",
   "metadata": {},
   "source": [
    "Here our model is the same as before: 784 input units, a hidden layer with 128 units, ReLU activation, 64 unit hidden layer, another ReLU, then the output layer with 10 units, and the softmax output.\n",
    "\n",
    "The operations are available by passing in the appropriate index. For example, if you want to get first Linear operation and look at the weights, you'd use `model[0]`."
   ]
  },
  {
   "cell_type": "code",
   "execution_count": 144,
   "metadata": {},
   "outputs": [
    {
     "name": "stdout",
     "output_type": "stream",
     "text": [
      "Linear(in_features=784, out_features=128, bias=True)\n"
     ]
    },
    {
     "data": {
      "text/plain": [
       "Parameter containing:\n",
       "tensor([[ 0.0261,  0.0257, -0.0336,  ...,  0.0026,  0.0092, -0.0269],\n",
       "        [ 0.0353,  0.0268,  0.0078,  ..., -0.0340, -0.0209, -0.0153],\n",
       "        [ 0.0272,  0.0082, -0.0252,  ...,  0.0354,  0.0185,  0.0120],\n",
       "        ...,\n",
       "        [ 0.0004, -0.0200, -0.0328,  ...,  0.0339,  0.0083,  0.0258],\n",
       "        [-0.0345,  0.0179,  0.0010,  ...,  0.0222, -0.0045,  0.0227],\n",
       "        [ 0.0080, -0.0085, -0.0242,  ..., -0.0047,  0.0290, -0.0312]],\n",
       "       requires_grad=True)"
      ]
     },
     "execution_count": 144,
     "metadata": {},
     "output_type": "execute_result"
    }
   ],
   "source": [
    "print(model[0])\n",
    "model[0].weight"
   ]
  },
  {
   "cell_type": "markdown",
   "metadata": {},
   "source": [
    "You can also pass in an `OrderedDict` to name the individual layers and operations, instead of using incremental integers. Note that dictionary keys must be unique, so _each operation must have a different name_."
   ]
  },
  {
   "cell_type": "code",
   "execution_count": 145,
   "metadata": {},
   "outputs": [
    {
     "data": {
      "text/plain": [
       "Sequential(\n",
       "  (fc1): Linear(in_features=784, out_features=128, bias=True)\n",
       "  (relu1): ReLU()\n",
       "  (fc2): Linear(in_features=128, out_features=64, bias=True)\n",
       "  (relu2): ReLU()\n",
       "  (output): Linear(in_features=64, out_features=10, bias=True)\n",
       "  (softmax): Softmax(dim=1)\n",
       ")"
      ]
     },
     "execution_count": 145,
     "metadata": {},
     "output_type": "execute_result"
    }
   ],
   "source": [
    "from collections import OrderedDict\n",
    "model = nn.Sequential(OrderedDict([\n",
    "                      ('fc1', nn.Linear(input_size, hidden_sizes[0])),\n",
    "                      ('relu1', nn.ReLU()),\n",
    "                      ('fc2', nn.Linear(hidden_sizes[0], hidden_sizes[1])),\n",
    "                      ('relu2', nn.ReLU()),\n",
    "                      ('output', nn.Linear(hidden_sizes[1], output_size)),\n",
    "                      ('softmax', nn.Softmax(dim=1))]))\n",
    "model"
   ]
  },
  {
   "cell_type": "markdown",
   "metadata": {},
   "source": [
    "Now you can access layers either by integer or the name"
   ]
  },
  {
   "cell_type": "code",
   "execution_count": 146,
   "metadata": {},
   "outputs": [
    {
     "name": "stdout",
     "output_type": "stream",
     "text": [
      "Linear(in_features=784, out_features=128, bias=True)\n",
      "Linear(in_features=784, out_features=128, bias=True)\n"
     ]
    }
   ],
   "source": [
    "print(model[0])\n",
    "print(model.fc1)"
   ]
  },
  {
   "cell_type": "markdown",
   "metadata": {},
   "source": [
    "In the next notebook, we'll see how we can train a neural network to accuractly predict the numbers appearing in the MNIST images."
   ]
  },
  {
   "cell_type": "code",
   "execution_count": null,
   "metadata": {},
   "outputs": [],
   "source": []
  }
 ],
 "metadata": {
  "kernelspec": {
   "display_name": "Python 3",
   "language": "python",
   "name": "python3"
  },
  "language_info": {
   "codemirror_mode": {
    "name": "ipython",
    "version": 3
   },
   "file_extension": ".py",
   "mimetype": "text/x-python",
   "name": "python",
   "nbconvert_exporter": "python",
   "pygments_lexer": "ipython3",
   "version": "3.7.4"
  }
 },
 "nbformat": 4,
 "nbformat_minor": 2
}
